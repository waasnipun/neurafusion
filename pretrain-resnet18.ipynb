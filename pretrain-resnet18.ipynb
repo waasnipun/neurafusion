{
 "cells": [
  {
   "cell_type": "code",
   "execution_count": 1,
   "id": "7cb51636c35ff179",
   "metadata": {
    "ExecuteTime": {
     "end_time": "2023-12-08T20:49:31.066661Z",
     "start_time": "2023-12-08T20:49:30.193666Z"
    },
    "collapsed": false
   },
   "outputs": [],
   "source": [
    "import os\n",
    "\n",
    "import torch\n",
    "import torch.nn as nn\n",
    "import torch.optim as optim\n",
    "from torch.optim.lr_scheduler import StepLR\n",
    "from torch.utils.data import DataLoader\n",
    "from torchvision import transforms, datasets\n",
    "from torchvision.utils import make_grid\n",
    "\n",
    "import matplotlib.pyplot as plt\n",
    "\n",
    "from dataset import Dataset\n",
    "from tools import getDataset, print_class_distribution\n",
    "\n",
    "import numpy as np\n",
    "from sklearn.model_selection import train_test_split"
   ]
  },
  {
   "cell_type": "code",
   "execution_count": 2,
   "id": "d0c1117e99dc7cc0",
   "metadata": {
    "ExecuteTime": {
     "end_time": "2023-12-08T20:49:31.131235Z",
     "start_time": "2023-12-08T20:49:31.127636Z"
    },
    "collapsed": false
   },
   "outputs": [
    {
     "name": "stdout",
     "output_type": "stream",
     "text": [
      "Device: mps\n"
     ]
    }
   ],
   "source": [
    "device = torch.device('cuda:0' if torch.cuda.is_available() else 'cpu')\n",
    "if torch.backends.mps.is_available():\n",
    "    device = torch.device(\"mps\")\n",
    "else:\n",
    "    print(\"MPS device not found.\")\n",
    "print('Device:', device)"
   ]
  },
  {
   "cell_type": "code",
   "execution_count": 3,
   "id": "ca9bdb650d1ebe5e",
   "metadata": {
    "ExecuteTime": {
     "end_time": "2023-12-08T20:49:31.684904Z",
     "start_time": "2023-12-08T20:49:31.553813Z"
    },
    "collapsed": false
   },
   "outputs": [],
   "source": [
    "batch_size = 128\n",
    "num_workers = 4\n",
    "learning_rate = 0.0001 \n",
    "num_epochs = 15\n",
    "image_size = 84\n",
    "num_classes = 50\n",
    "\n",
    "root_dir = os.path.join(os.getcwd(), 'datasets/miniImageNet')\n",
    "dataset, label_mapping = getDataset(path=root_dir, num_classes=num_classes)\n",
    "\n",
    "\n",
    "train_transforms = transforms.Compose(\n",
    "        [\n",
    "            transforms.RandomCrop(84, padding=8),\n",
    "            transforms.ColorJitter(brightness=0.4, contrast=0.4, saturation=0.4),\n",
    "            transforms.GaussianBlur(3, sigma=(0.1, 2.0)),\n",
    "            transforms.RandomHorizontalFlip(),\n",
    "            transforms.RandomRotation(degrees=5),\n",
    "            transforms.ToTensor(),\n",
    "            transforms.Normalize((0.485, 0.456, 0.406), (0.229, 0.224, 0.225)),\n",
    "        ]\n",
    "    )\n",
    "\n",
    "transforms = transforms.Compose(\n",
    "        [\n",
    "            transforms.RandomCrop(84, padding=8),\n",
    "            transforms.ToTensor(),\n",
    "            transforms.Normalize((0.485, 0.456, 0.406), (0.229, 0.224, 0.225)),\n",
    "        ]\n",
    "    )\n",
    "       \n",
    "train_dataset, temp_dataset = train_test_split(dataset, test_size=0.3, random_state=42)\n",
    "val_dataset, test_dataset = train_test_split(temp_dataset, test_size=0.5, random_state=42)\n",
    "      \n",
    "train_dataset = Dataset(dataset=train_dataset, path=root_dir, phase='train', transform=train_transforms)\n",
    "val_dataset = Dataset(dataset=val_dataset, path=root_dir, phase='val', transform=transforms)\n",
    "test_dataset = Dataset(dataset=test_dataset, path=root_dir, phase='test', transform=transforms)\n",
    "\n",
    "train_loader = DataLoader(train_dataset, batch_size=batch_size, shuffle=True, num_workers=num_workers)\n",
    "validation_loader = DataLoader(val_dataset, batch_size=batch_size, shuffle=False, num_workers=num_workers)\n",
    "test_loader = DataLoader(test_dataset, batch_size=batch_size, shuffle=False, num_workers=num_workers)"
   ]
  },
  {
   "cell_type": "code",
   "execution_count": 4,
   "id": "cfab17de52b40940",
   "metadata": {
    "ExecuteTime": {
     "end_time": "2023-12-08T20:49:31.696316Z",
     "start_time": "2023-12-08T20:49:31.691779Z"
    },
    "collapsed": false
   },
   "outputs": [],
   "source": [
    "def eval(net, data_loader, criterion=nn.CrossEntropyLoss()):\n",
    "    use_cuda = torch.cuda.is_available()\n",
    "    if use_cuda:\n",
    "        net = net.cuda()\n",
    "    net.eval()\n",
    "    correct = 0.0\n",
    "    num_images = 0.0\n",
    "    loss = 0.0\n",
    "    for i_batch, (images, labels) in enumerate(data_loader):\n",
    "        images, labels = images.to(device), labels.to(device)\n",
    "        outs = net(images)\n",
    "        loss += criterion(outs, labels).item()\n",
    "        _, predicted = torch.max(outs.data, 1)\n",
    "        correct += (predicted == labels).sum().item()\n",
    "        num_images += len(labels)\n",
    "        print('testing/evaluating -> batch: %d correct: %d numb images: %d' % (i_batch, correct, num_images) + '\\r', end='')\n",
    "    acc = correct / num_images\n",
    "    loss /= len(data_loader)\n",
    "    return acc, loss\n",
    "\n",
    "\n",
    "# training function\n",
    "def train(net, train_loader, valid_loader):\n",
    "\n",
    "    criterion = nn.CrossEntropyLoss()\n",
    "    # optimizer = torch.optim.SGD(params= net.parameters(), lr=learning_rate, momentum=0.9, weight_decay=0.0001)\n",
    "    optimizer = torch.optim.Adam(net.parameters(), lr=learning_rate, weight_decay=0.0001, betas=(0.5, 0.999))\n",
    "    scheduler = StepLR(optimizer, step_size=7, gamma=0.01)\n",
    "\n",
    "    use_cuda = torch.cuda.is_available()\n",
    "    if use_cuda:\n",
    "        net = net.cuda()\n",
    "\n",
    "    training_losses = []\n",
    "    val_losses = []\n",
    "    for epoch in range(num_epochs):\n",
    "        net.train()\n",
    "        correct = 0.0  # used to accumulate number of correctly recognized images\n",
    "        num_images = 0.0  # used to accumulate number of images\n",
    "        total_loss = 0.0\n",
    "\n",
    "        for i_batch, (images, labels) in enumerate(train_loader):\n",
    "            images, labels = images.to(device), labels.to(device)\n",
    "            output_train = net(images)\n",
    "            loss = criterion(output_train, labels)\n",
    "\n",
    "            optimizer.zero_grad()\n",
    "            loss.backward()\n",
    "            optimizer.step()\n",
    "\n",
    "            predicts = output_train.argmax(dim=1)\n",
    "            correct += predicts.eq(labels).sum().item()\n",
    "            num_images += len(labels)\n",
    "            total_loss += loss.item()\n",
    "\n",
    "            print('training -> epoch: %d, batch: %d, loss: %f' % (epoch, i_batch, loss.item()) + '\\r', end='')\n",
    "\n",
    "        print()\n",
    "        acc = correct / num_images\n",
    "        acc_eval, val_loss = eval(net, valid_loader)\n",
    "        average_loss = total_loss / len(train_loader)\n",
    "        training_losses.append(average_loss)\n",
    "        val_losses.append(val_loss)\n",
    "        print('\\nepoch: %d, lr: %f, accuracy: %f, avg. loss: %f, valid accuracy: %f valid loss: %f\\n' % (epoch, optimizer.param_groups[0]['lr'], acc, average_loss, acc_eval, val_loss))\n",
    "\n",
    "        scheduler.step()\n",
    "\n",
    "    return net, training_losses, val_losses"
   ]
  },
  {
   "cell_type": "code",
   "execution_count": 5,
   "id": "1111f6cab32449a5",
   "metadata": {
    "ExecuteTime": {
     "end_time": "2023-12-08T00:53:51.862621Z",
     "start_time": "2023-12-08T00:28:18.503060Z"
    },
    "collapsed": false
   },
   "outputs": [
    {
     "name": "stdout",
     "output_type": "stream",
     "text": [
      "Hyperparameters:\n",
      "Batch Size: 128\n",
      "Learning Rate: 0.0001\n",
      "Number of Epochs: 15\n",
      "Number of Workers: 4\n",
      "Number of Classes: 50\n",
      "\n",
      "training -> epoch: 0, batch: 160, loss: 1.363324\n",
      "testing/evaluating -> batch: 34 correct: 2911 numb images: 4410\n",
      "epoch: 0, lr: 0.000100, accuracy: 0.454762, avg. loss: 2.172634, valid accuracy: 0.660091 valid loss: 1.234287\n",
      "\n",
      "training -> epoch: 1, batch: 160, loss: 1.004573\n",
      "testing/evaluating -> batch: 34 correct: 3127 numb images: 4410\n",
      "epoch: 1, lr: 0.000100, accuracy: 0.666910, avg. loss: 1.195308, valid accuracy: 0.709070 valid loss: 1.017632\n",
      "\n",
      "training -> epoch: 2, batch: 160, loss: 0.902923\n",
      "testing/evaluating -> batch: 34 correct: 3185 numb images: 4410\n",
      "epoch: 2, lr: 0.000100, accuracy: 0.725316, avg. loss: 0.949964, valid accuracy: 0.722222 valid loss: 0.963299\n",
      "\n",
      "training -> epoch: 3, batch: 160, loss: 0.887272\n",
      "testing/evaluating -> batch: 34 correct: 3218 numb images: 4410\n",
      "epoch: 3, lr: 0.000100, accuracy: 0.767833, avg. loss: 0.800124, valid accuracy: 0.729705 valid loss: 0.934832\n",
      "\n",
      "training -> epoch: 4, batch: 160, loss: 0.881261\n",
      "testing/evaluating -> batch: 34 correct: 3242 numb images: 4410\n",
      "epoch: 4, lr: 0.000100, accuracy: 0.799125, avg. loss: 0.673502, valid accuracy: 0.735147 valid loss: 0.933017\n",
      "\n",
      "training -> epoch: 5, batch: 160, loss: 0.656307\n",
      "testing/evaluating -> batch: 34 correct: 3286 numb images: 4410\n",
      "epoch: 5, lr: 0.000100, accuracy: 0.828717, avg. loss: 0.580241, valid accuracy: 0.745125 valid loss: 0.899852\n",
      "\n",
      "training -> epoch: 6, batch: 160, loss: 0.467982\n",
      "testing/evaluating -> batch: 34 correct: 3293 numb images: 4410\n",
      "epoch: 6, lr: 0.000100, accuracy: 0.855442, avg. loss: 0.490378, valid accuracy: 0.746712 valid loss: 0.900739\n",
      "\n",
      "training -> epoch: 7, batch: 160, loss: 0.297036\n",
      "testing/evaluating -> batch: 34 correct: 3322 numb images: 4410\n",
      "epoch: 7, lr: 0.000001, accuracy: 0.889456, avg. loss: 0.388483, valid accuracy: 0.753288 valid loss: 0.868436\n",
      "\n",
      "training -> epoch: 8, batch: 160, loss: 0.505547\n",
      "testing/evaluating -> batch: 34 correct: 3301 numb images: 4410\n",
      "epoch: 8, lr: 0.000001, accuracy: 0.896307, avg. loss: 0.370531, valid accuracy: 0.748526 valid loss: 0.879119\n",
      "\n",
      "training -> epoch: 9, batch: 160, loss: 0.374353\n",
      "testing/evaluating -> batch: 34 correct: 3340 numb images: 4410\n",
      "epoch: 9, lr: 0.000001, accuracy: 0.902478, avg. loss: 0.361437, valid accuracy: 0.757370 valid loss: 0.866730\n",
      "\n",
      "training -> epoch: 10, batch: 160, loss: 0.483402\n",
      "testing/evaluating -> batch: 34 correct: 3313 numb images: 4410\n",
      "epoch: 10, lr: 0.000001, accuracy: 0.899660, avg. loss: 0.368005, valid accuracy: 0.751247 valid loss: 0.872952\n",
      "\n",
      "training -> epoch: 11, batch: 160, loss: 0.417643\n",
      "testing/evaluating -> batch: 34 correct: 3339 numb images: 4410\n",
      "epoch: 11, lr: 0.000001, accuracy: 0.899223, avg. loss: 0.360742, valid accuracy: 0.757143 valid loss: 0.863954\n",
      "\n",
      "training -> epoch: 12, batch: 160, loss: 0.291335\n",
      "testing/evaluating -> batch: 34 correct: 3284 numb images: 4410\n",
      "epoch: 12, lr: 0.000001, accuracy: 0.903693, avg. loss: 0.350025, valid accuracy: 0.744671 valid loss: 0.881179\n",
      "\n",
      "training -> epoch: 13, batch: 160, loss: 0.176998\n",
      "testing/evaluating -> batch: 34 correct: 3342 numb images: 4410\n",
      "epoch: 13, lr: 0.000001, accuracy: 0.905345, avg. loss: 0.344853, valid accuracy: 0.757823 valid loss: 0.852491\n",
      "\n",
      "training -> epoch: 14, batch: 160, loss: 0.287850\n",
      "testing/evaluating -> batch: 34 correct: 3341 numb images: 4410\n",
      "epoch: 14, lr: 0.000000, accuracy: 0.906365, avg. loss: 0.339900, valid accuracy: 0.757596 valid loss: 0.858272\n",
      "\n",
      "testing/evaluating -> batch: 34 correct: 3347 numb images: 4410\n",
      "accuracy on testing data: 0.758957\n"
     ]
    },
    {
     "data": {
      "image/png": "[encoded data removed]",
      "text/plain": [
       "<Figure size 432x288 with 1 Axes>"
      ]
     },
     "metadata": {
      "needs_background": "light"
     },
     "output_type": "display_data"
    }
   ],
   "source": [
    "from models.resnet18 import ResNet18\n",
    "\n",
    "print(f\"Hyperparameters:\")\n",
    "print(f\"Batch Size: {batch_size}\")\n",
    "print(f\"Learning Rate: {learning_rate}\")\n",
    "print(f\"Number of Epochs: {num_epochs}\")\n",
    "print(f\"Number of Workers: {num_workers}\")\n",
    "print(f\"Number of Classes: {num_classes}\\n\")\n",
    "\n",
    "# print_class_distribution(train_dataset, \"Training\", label_mapping)\n",
    "# print_class_distribution(val_dataset, \"Validation\", label_mapping)\n",
    "# print_class_distribution(test_dataset, \"Testing\", label_mapping)\n",
    "\n",
    "model = ResNet18(num_classes=num_classes).to(device)\n",
    "model, training_losses, val_losses = train(net=model, train_loader=train_loader, valid_loader=validation_loader)\n",
    "\n",
    "acc_test, test_loss = eval(model, test_loader)\n",
    "print('\\naccuracy on testing data: %f' % acc_test)\n",
    "\n",
    "plt.plot(training_losses, label='Training Loss')\n",
    "plt.plot(val_losses, label='Validation Loss')\n",
    "plt.xlabel('Epoch')\n",
    "plt.ylabel('Loss')\n",
    "plt.legend()\n",
    "plt.show()"
   ]
  },
  {
   "cell_type": "code",
   "execution_count": 6,
   "id": "190876f0",
   "metadata": {},
   "outputs": [],
   "source": [
    "torch.save(model, os.path.join(os.getcwd(), 'pretrained/resnet18_adam_best.pth'))"
   ]
  },
  {
   "cell_type": "code",
   "execution_count": 11,
   "id": "e9d6f8e94e82f5e9",
   "metadata": {
    "ExecuteTime": {
     "end_time": "2023-12-08T00:59:27.037819Z",
     "start_time": "2023-12-08T00:59:16.296902Z"
    },
    "collapsed": false
   },
   "outputs": [
    {
     "name": "stdout",
     "output_type": "stream",
     "text": [
      "tensor([12,  8,  2,  7, 11, 37, 32, 39, 46, 22, 23, 47, 40, 45,  4, 18, 47,  0,\n",
      "        14, 29, 22, 43, 14,  6,  4, 27, 19, 16, 47, 24,  8, 12, 28, 10, 28, 47,\n",
      "        41, 37, 18, 34, 36,  9, 13, 12, 27,  7,  6, 30, 17, 17,  2, 20, 12,  3,\n",
      "        10, 17, 27, 22, 33, 38, 27, 39,  5, 39, 27, 42,  1, 17, 26, 24, 48, 13,\n",
      "        35, 33, 48, 39,  4,  7, 33, 24, 33, 41, 11, 38,  3,  7, 46,  0, 39, 10,\n",
      "        24, 31,  5, 39, 30, 20, 17, 22, 30, 43, 10, 26, 48, 21, 48,  1, 16, 33,\n",
      "         6, 23, 23, 47,  7, 48,  1,  0, 34,  6, 42, 17, 31, 10, 32, 38, 25,  9,\n",
      "        47, 41], device='mps:0')\n",
      "tensor([12,  8,  2,  7, 11, 37,  2, 39, 10, 22, 23, 47, 40, 45,  4, 18, 47,  0,\n",
      "        14, 29, 22, 22,  1,  6,  0, 27, 19, 16, 47, 24,  8, 12, 28, 10, 28, 47,\n",
      "        41, 37, 18, 19, 36,  9, 45, 12, 27,  7,  6, 30, 25, 17,  2, 20, 12,  3,\n",
      "        10, 17, 27, 22,  3, 38, 27,  8,  5, 39, 27, 42,  1, 17, 17, 24, 48, 36,\n",
      "        35, 33, 48, 39,  4,  7, 41, 24, 45, 33, 11, 38,  3,  7, 46,  3, 39, 10,\n",
      "        24, 31,  5, 39, 30, 20, 17, 19, 30,  2, 10, 41, 48, 21, 14,  1, 16, 33,\n",
      "         6, 23, 23, 47,  7, 48,  1,  8, 35, 46, 42, 17, 31, 10, 32, 38, 25,  9,\n",
      "        47, 41], device='mps:0')\n",
      "105 128\n"
     ]
    }
   ],
   "source": [
    "model.eval()  \n",
    "\n",
    "for i_batch, (images, labels) in enumerate(test_loader):\n",
    "    images, labels = images.to(device), labels.to(device)\n",
    "    outs = model(images)\n",
    "    _, predicted = torch.max(outs.data, 1)\n",
    "    print(predicted)\n",
    "    print(labels)\n",
    "    _, predicted = torch.max(outs.data, 1)\n",
    "    correct = (predicted == labels).sum().item()\n",
    "    print(correct, len(labels))\n",
    "    break"
   ]
  },
  {
   "cell_type": "code",
   "execution_count": 9,
   "id": "ac2fc501",
   "metadata": {},
   "outputs": [
    {
     "data": {
      "text/plain": [
       "0.8125"
      ]
     },
     "execution_count": 9,
     "metadata": {},
     "output_type": "execute_result"
    }
   ],
   "source": [
    "104/128"
   ]
  },
  {
   "cell_type": "code",
   "execution_count": null,
   "id": "dc43452f",
   "metadata": {},
   "outputs": [],
   "source": []
  }
 ],
 "metadata": {
  "kernelspec": {
   "display_name": "pytorch_",
   "language": "python",
   "name": "python3"
  },
  "language_info": {
   "codemirror_mode": {
    "name": "ipython",
    "version": 3
   },
   "file_extension": ".py",
   "mimetype": "text/x-python",
   "name": "python",
   "nbconvert_exporter": "python",
   "pygments_lexer": "ipython3",
   "version": "3.9.18"
  }
 },
 "nbformat": 4,
 "nbformat_minor": 5
}
